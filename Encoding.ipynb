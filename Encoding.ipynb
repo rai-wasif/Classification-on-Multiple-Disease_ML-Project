{
 "cells": [
  {
   "cell_type": "code",
   "execution_count": 1,
   "id": "4da35e14-54a6-4845-bdd0-b4b31ea144bc",
   "metadata": {},
   "outputs": [],
   "source": [
    "import pandas as pd\n",
    "\n",
    "df = pd.read_csv('winsorized_data.csv')\n"
   ]
  },
  {
   "cell_type": "code",
   "execution_count": 2,
   "id": "716f580b-223f-4f3a-972f-b672a08b1ed7",
   "metadata": {},
   "outputs": [
    {
     "data": {
      "text/html": [
       "<div>\n",
       "<style scoped>\n",
       "    .dataframe tbody tr th:only-of-type {\n",
       "        vertical-align: middle;\n",
       "    }\n",
       "\n",
       "    .dataframe tbody tr th {\n",
       "        vertical-align: top;\n",
       "    }\n",
       "\n",
       "    .dataframe thead th {\n",
       "        text-align: right;\n",
       "    }\n",
       "</style>\n",
       "<table border=\"1\" class=\"dataframe\">\n",
       "  <thead>\n",
       "    <tr style=\"text-align: right;\">\n",
       "      <th></th>\n",
       "      <th>HeartDisease</th>\n",
       "      <th>BMI</th>\n",
       "      <th>Smoking</th>\n",
       "      <th>AlcoholDrinking</th>\n",
       "      <th>Stroke</th>\n",
       "      <th>PhysicalHealth</th>\n",
       "      <th>MentalHealth</th>\n",
       "      <th>DiffWalking</th>\n",
       "      <th>Sex</th>\n",
       "      <th>AgeCategory</th>\n",
       "      <th>Race</th>\n",
       "      <th>Diabetic</th>\n",
       "      <th>PhysicalActivity</th>\n",
       "      <th>GenHealth</th>\n",
       "      <th>SleepTime</th>\n",
       "      <th>Asthma</th>\n",
       "      <th>KidneyDisease</th>\n",
       "      <th>SkinCancer</th>\n",
       "    </tr>\n",
       "  </thead>\n",
       "  <tbody>\n",
       "    <tr>\n",
       "      <th>0</th>\n",
       "      <td>No</td>\n",
       "      <td>24.56</td>\n",
       "      <td>Yes</td>\n",
       "      <td>No</td>\n",
       "      <td>No</td>\n",
       "      <td>12.5</td>\n",
       "      <td>10.0</td>\n",
       "      <td>No</td>\n",
       "      <td>Female</td>\n",
       "      <td>50-54</td>\n",
       "      <td>Hispanic</td>\n",
       "      <td>No</td>\n",
       "      <td>Yes</td>\n",
       "      <td>Good</td>\n",
       "      <td>6</td>\n",
       "      <td>No</td>\n",
       "      <td>No</td>\n",
       "      <td>No</td>\n",
       "    </tr>\n",
       "    <tr>\n",
       "      <th>1</th>\n",
       "      <td>No</td>\n",
       "      <td>30.23</td>\n",
       "      <td>No</td>\n",
       "      <td>No</td>\n",
       "      <td>No</td>\n",
       "      <td>0.0</td>\n",
       "      <td>0.0</td>\n",
       "      <td>No</td>\n",
       "      <td>Female</td>\n",
       "      <td>75-79</td>\n",
       "      <td>White</td>\n",
       "      <td>No</td>\n",
       "      <td>Yes</td>\n",
       "      <td>Excellent</td>\n",
       "      <td>7</td>\n",
       "      <td>No</td>\n",
       "      <td>No</td>\n",
       "      <td>No</td>\n",
       "    </tr>\n",
       "    <tr>\n",
       "      <th>2</th>\n",
       "      <td>No</td>\n",
       "      <td>29.12</td>\n",
       "      <td>Yes</td>\n",
       "      <td>No</td>\n",
       "      <td>No</td>\n",
       "      <td>0.0</td>\n",
       "      <td>0.0</td>\n",
       "      <td>No</td>\n",
       "      <td>Female</td>\n",
       "      <td>80 or older</td>\n",
       "      <td>White</td>\n",
       "      <td>No</td>\n",
       "      <td>Yes</td>\n",
       "      <td>Excellent</td>\n",
       "      <td>7</td>\n",
       "      <td>Yes</td>\n",
       "      <td>No</td>\n",
       "      <td>No</td>\n",
       "    </tr>\n",
       "    <tr>\n",
       "      <th>3</th>\n",
       "      <td>Yes</td>\n",
       "      <td>30.23</td>\n",
       "      <td>No</td>\n",
       "      <td>No</td>\n",
       "      <td>No</td>\n",
       "      <td>0.0</td>\n",
       "      <td>0.0</td>\n",
       "      <td>No</td>\n",
       "      <td>Female</td>\n",
       "      <td>80 or older</td>\n",
       "      <td>White</td>\n",
       "      <td>No</td>\n",
       "      <td>Yes</td>\n",
       "      <td>Very good</td>\n",
       "      <td>8</td>\n",
       "      <td>No</td>\n",
       "      <td>No</td>\n",
       "      <td>No</td>\n",
       "    </tr>\n",
       "    <tr>\n",
       "      <th>4</th>\n",
       "      <td>No</td>\n",
       "      <td>20.81</td>\n",
       "      <td>Yes</td>\n",
       "      <td>No</td>\n",
       "      <td>Yes</td>\n",
       "      <td>0.0</td>\n",
       "      <td>0.0</td>\n",
       "      <td>No</td>\n",
       "      <td>Male</td>\n",
       "      <td>65-69</td>\n",
       "      <td>White</td>\n",
       "      <td>No</td>\n",
       "      <td>Yes</td>\n",
       "      <td>Fair</td>\n",
       "      <td>8</td>\n",
       "      <td>No</td>\n",
       "      <td>No</td>\n",
       "      <td>No</td>\n",
       "    </tr>\n",
       "    <tr>\n",
       "      <th>...</th>\n",
       "      <td>...</td>\n",
       "      <td>...</td>\n",
       "      <td>...</td>\n",
       "      <td>...</td>\n",
       "      <td>...</td>\n",
       "      <td>...</td>\n",
       "      <td>...</td>\n",
       "      <td>...</td>\n",
       "      <td>...</td>\n",
       "      <td>...</td>\n",
       "      <td>...</td>\n",
       "      <td>...</td>\n",
       "      <td>...</td>\n",
       "      <td>...</td>\n",
       "      <td>...</td>\n",
       "      <td>...</td>\n",
       "      <td>...</td>\n",
       "      <td>...</td>\n",
       "    </tr>\n",
       "    <tr>\n",
       "      <th>59063</th>\n",
       "      <td>Yes</td>\n",
       "      <td>21.93</td>\n",
       "      <td>Yes</td>\n",
       "      <td>No</td>\n",
       "      <td>No</td>\n",
       "      <td>12.5</td>\n",
       "      <td>0.0</td>\n",
       "      <td>No</td>\n",
       "      <td>Female</td>\n",
       "      <td>70-74</td>\n",
       "      <td>White</td>\n",
       "      <td>Yes</td>\n",
       "      <td>Yes</td>\n",
       "      <td>Fair</td>\n",
       "      <td>4</td>\n",
       "      <td>Yes</td>\n",
       "      <td>No</td>\n",
       "      <td>Yes</td>\n",
       "    </tr>\n",
       "    <tr>\n",
       "      <th>59064</th>\n",
       "      <td>No</td>\n",
       "      <td>24.68</td>\n",
       "      <td>Yes</td>\n",
       "      <td>No</td>\n",
       "      <td>No</td>\n",
       "      <td>0.0</td>\n",
       "      <td>0.0</td>\n",
       "      <td>Yes</td>\n",
       "      <td>Male</td>\n",
       "      <td>80 or older</td>\n",
       "      <td>White</td>\n",
       "      <td>No</td>\n",
       "      <td>Yes</td>\n",
       "      <td>Very good</td>\n",
       "      <td>6</td>\n",
       "      <td>No</td>\n",
       "      <td>No</td>\n",
       "      <td>Yes</td>\n",
       "    </tr>\n",
       "    <tr>\n",
       "      <th>59065</th>\n",
       "      <td>Yes</td>\n",
       "      <td>20.38</td>\n",
       "      <td>No</td>\n",
       "      <td>No</td>\n",
       "      <td>No</td>\n",
       "      <td>5.0</td>\n",
       "      <td>4.0</td>\n",
       "      <td>No</td>\n",
       "      <td>Female</td>\n",
       "      <td>65-69</td>\n",
       "      <td>White</td>\n",
       "      <td>No</td>\n",
       "      <td>Yes</td>\n",
       "      <td>Good</td>\n",
       "      <td>7</td>\n",
       "      <td>No</td>\n",
       "      <td>No</td>\n",
       "      <td>No</td>\n",
       "    </tr>\n",
       "    <tr>\n",
       "      <th>59066</th>\n",
       "      <td>No</td>\n",
       "      <td>25.86</td>\n",
       "      <td>Yes</td>\n",
       "      <td>No</td>\n",
       "      <td>No</td>\n",
       "      <td>12.5</td>\n",
       "      <td>0.0</td>\n",
       "      <td>Yes</td>\n",
       "      <td>Male</td>\n",
       "      <td>65-69</td>\n",
       "      <td>White</td>\n",
       "      <td>No</td>\n",
       "      <td>No</td>\n",
       "      <td>Good</td>\n",
       "      <td>7</td>\n",
       "      <td>No</td>\n",
       "      <td>No</td>\n",
       "      <td>Yes</td>\n",
       "    </tr>\n",
       "    <tr>\n",
       "      <th>59067</th>\n",
       "      <td>Yes</td>\n",
       "      <td>26.50</td>\n",
       "      <td>No</td>\n",
       "      <td>No</td>\n",
       "      <td>No</td>\n",
       "      <td>0.0</td>\n",
       "      <td>0.0</td>\n",
       "      <td>No</td>\n",
       "      <td>Female</td>\n",
       "      <td>65-69</td>\n",
       "      <td>White</td>\n",
       "      <td>No</td>\n",
       "      <td>No</td>\n",
       "      <td>Very good</td>\n",
       "      <td>7</td>\n",
       "      <td>No</td>\n",
       "      <td>No</td>\n",
       "      <td>No</td>\n",
       "    </tr>\n",
       "  </tbody>\n",
       "</table>\n",
       "<p>59068 rows × 18 columns</p>\n",
       "</div>"
      ],
      "text/plain": [
       "      HeartDisease    BMI Smoking AlcoholDrinking Stroke  PhysicalHealth  \\\n",
       "0               No  24.56     Yes              No     No            12.5   \n",
       "1               No  30.23      No              No     No             0.0   \n",
       "2               No  29.12     Yes              No     No             0.0   \n",
       "3              Yes  30.23      No              No     No             0.0   \n",
       "4               No  20.81     Yes              No    Yes             0.0   \n",
       "...            ...    ...     ...             ...    ...             ...   \n",
       "59063          Yes  21.93     Yes              No     No            12.5   \n",
       "59064           No  24.68     Yes              No     No             0.0   \n",
       "59065          Yes  20.38      No              No     No             5.0   \n",
       "59066           No  25.86     Yes              No     No            12.5   \n",
       "59067          Yes  26.50      No              No     No             0.0   \n",
       "\n",
       "       MentalHealth DiffWalking     Sex  AgeCategory      Race Diabetic  \\\n",
       "0              10.0          No  Female        50-54  Hispanic       No   \n",
       "1               0.0          No  Female        75-79     White       No   \n",
       "2               0.0          No  Female  80 or older     White       No   \n",
       "3               0.0          No  Female  80 or older     White       No   \n",
       "4               0.0          No    Male        65-69     White       No   \n",
       "...             ...         ...     ...          ...       ...      ...   \n",
       "59063           0.0          No  Female        70-74     White      Yes   \n",
       "59064           0.0         Yes    Male  80 or older     White       No   \n",
       "59065           4.0          No  Female        65-69     White       No   \n",
       "59066           0.0         Yes    Male        65-69     White       No   \n",
       "59067           0.0          No  Female        65-69     White       No   \n",
       "\n",
       "      PhysicalActivity  GenHealth  SleepTime Asthma KidneyDisease SkinCancer  \n",
       "0                  Yes       Good          6     No            No         No  \n",
       "1                  Yes  Excellent          7     No            No         No  \n",
       "2                  Yes  Excellent          7    Yes            No         No  \n",
       "3                  Yes  Very good          8     No            No         No  \n",
       "4                  Yes       Fair          8     No            No         No  \n",
       "...                ...        ...        ...    ...           ...        ...  \n",
       "59063              Yes       Fair          4    Yes            No        Yes  \n",
       "59064              Yes  Very good          6     No            No        Yes  \n",
       "59065              Yes       Good          7     No            No         No  \n",
       "59066               No       Good          7     No            No        Yes  \n",
       "59067               No  Very good          7     No            No         No  \n",
       "\n",
       "[59068 rows x 18 columns]"
      ]
     },
     "execution_count": 2,
     "metadata": {},
     "output_type": "execute_result"
    }
   ],
   "source": [
    "df"
   ]
  },
  {
   "cell_type": "code",
   "execution_count": 3,
   "id": "9b5ea3d7-eb58-438d-9ef7-744ac03833a8",
   "metadata": {},
   "outputs": [
    {
     "data": {
      "text/plain": [
       "HeartDisease         object\n",
       "BMI                 float64\n",
       "Smoking              object\n",
       "AlcoholDrinking      object\n",
       "Stroke               object\n",
       "PhysicalHealth      float64\n",
       "MentalHealth        float64\n",
       "DiffWalking          object\n",
       "Sex                  object\n",
       "AgeCategory          object\n",
       "Race                 object\n",
       "Diabetic             object\n",
       "PhysicalActivity     object\n",
       "GenHealth            object\n",
       "SleepTime             int64\n",
       "Asthma               object\n",
       "KidneyDisease        object\n",
       "SkinCancer           object\n",
       "dtype: object"
      ]
     },
     "execution_count": 3,
     "metadata": {},
     "output_type": "execute_result"
    }
   ],
   "source": [
    "df.dtypes"
   ]
  },
  {
   "cell_type": "code",
   "execution_count": 4,
   "id": "2c755e2e-0928-46f6-8fd3-31d29be35639",
   "metadata": {},
   "outputs": [
    {
     "data": {
      "text/plain": [
       "HeartDisease        0\n",
       "BMI                 0\n",
       "Smoking             0\n",
       "AlcoholDrinking     0\n",
       "Stroke              0\n",
       "PhysicalHealth      0\n",
       "MentalHealth        0\n",
       "DiffWalking         0\n",
       "Sex                 0\n",
       "AgeCategory         0\n",
       "Race                0\n",
       "Diabetic            0\n",
       "PhysicalActivity    0\n",
       "GenHealth           0\n",
       "SleepTime           0\n",
       "Asthma              0\n",
       "KidneyDisease       0\n",
       "SkinCancer          0\n",
       "dtype: int64"
      ]
     },
     "execution_count": 4,
     "metadata": {},
     "output_type": "execute_result"
    }
   ],
   "source": [
    "df.isnull().sum()"
   ]
  },
  {
   "cell_type": "code",
   "execution_count": 5,
   "id": "be37990d-7bc8-4232-b5ed-ff3f57d27afc",
   "metadata": {},
   "outputs": [
    {
     "name": "stdout",
     "output_type": "stream",
     "text": [
      "['No' 'Yes']\n"
     ]
    }
   ],
   "source": [
    "print(df['HeartDisease'].unique())\n"
   ]
  },
  {
   "cell_type": "code",
   "execution_count": 6,
   "id": "94889bf2-98c4-4da8-b7f3-6aec3264238d",
   "metadata": {},
   "outputs": [
    {
     "name": "stdout",
     "output_type": "stream",
     "text": [
      "[24.56 30.23 29.12 ... 28.01 36.69 41.77]\n"
     ]
    }
   ],
   "source": [
    "print(df['BMI'].unique())\n"
   ]
  },
  {
   "cell_type": "code",
   "execution_count": 7,
   "id": "2d47a789-4fe5-4ae3-b3fd-413a7f43b02d",
   "metadata": {},
   "outputs": [
    {
     "name": "stdout",
     "output_type": "stream",
     "text": [
      "['Yes' 'No']\n"
     ]
    }
   ],
   "source": [
    "print(df['Smoking'].unique())\n"
   ]
  },
  {
   "cell_type": "code",
   "execution_count": 8,
   "id": "1860360a-ccb2-410f-acd2-bac99f351918",
   "metadata": {},
   "outputs": [
    {
     "name": "stdout",
     "output_type": "stream",
     "text": [
      "['No' 'Yes']\n"
     ]
    }
   ],
   "source": [
    "print(df['AlcoholDrinking'].unique())\n",
    "\n"
   ]
  },
  {
   "cell_type": "code",
   "execution_count": 9,
   "id": "003451ca-2a09-4548-b969-2d68baa1d6b9",
   "metadata": {},
   "outputs": [
    {
     "name": "stdout",
     "output_type": "stream",
     "text": [
      "['No' 'Yes']\n"
     ]
    }
   ],
   "source": [
    "print(df['Stroke'].unique())\n"
   ]
  },
  {
   "cell_type": "code",
   "execution_count": 10,
   "id": "88b1aaba-2706-4bf7-801a-2d02d304ab0d",
   "metadata": {},
   "outputs": [
    {
     "name": "stdout",
     "output_type": "stream",
     "text": [
      "[12.5  0.   5.   4.   2.  10.   1.   3.   7.  12.   8.  11.   6.   9. ]\n"
     ]
    }
   ],
   "source": [
    "print(df['PhysicalHealth'].unique())\n"
   ]
  },
  {
   "cell_type": "code",
   "execution_count": 11,
   "id": "ed31192b-19cd-4cea-b752-89ff466a4ae4",
   "metadata": {},
   "outputs": [
    {
     "name": "stdout",
     "output_type": "stream",
     "text": [
      "['No' 'Yes']\n"
     ]
    }
   ],
   "source": [
    "print(df['DiffWalking'].unique())\n"
   ]
  },
  {
   "cell_type": "code",
   "execution_count": 12,
   "id": "6d3a703f-32bd-4b5a-878f-927bda7593c1",
   "metadata": {},
   "outputs": [
    {
     "name": "stdout",
     "output_type": "stream",
     "text": [
      "['Female' 'Male']\n"
     ]
    }
   ],
   "source": [
    "print(df['Sex'].unique())\n"
   ]
  },
  {
   "cell_type": "code",
   "execution_count": 13,
   "id": "265f294c-9477-4b35-9407-36181c434768",
   "metadata": {},
   "outputs": [
    {
     "name": "stdout",
     "output_type": "stream",
     "text": [
      "['50-54' '75-79' '80 or older' '65-69' '60-64' '40-44' '18-24' '25-29'\n",
      " '70-74' '45-49' '55-59' '35-39' '30-34']\n"
     ]
    }
   ],
   "source": [
    "print(df['AgeCategory'].unique())\n"
   ]
  },
  {
   "cell_type": "code",
   "execution_count": 14,
   "id": "0e640c57-43ed-4025-94f9-717bb0fd3d67",
   "metadata": {},
   "outputs": [
    {
     "name": "stdout",
     "output_type": "stream",
     "text": [
      "['Hispanic' 'White' 'American Indian/Alaskan Native' 'Asian' 'Other'\n",
      " 'Black']\n"
     ]
    }
   ],
   "source": [
    "print(df['Race'].unique())\n"
   ]
  },
  {
   "cell_type": "code",
   "execution_count": 15,
   "id": "b7b8efa2-34a2-4fb6-a06e-0818c3f6e75a",
   "metadata": {},
   "outputs": [
    {
     "name": "stdout",
     "output_type": "stream",
     "text": [
      "['No' 'No, borderline diabetes' 'Yes' 'Yes (during pregnancy)']\n"
     ]
    }
   ],
   "source": [
    "print(df['Diabetic'].unique())\n"
   ]
  },
  {
   "cell_type": "code",
   "execution_count": 16,
   "id": "0d943b5b-7eb6-446b-8bb6-3428ff4347b1",
   "metadata": {},
   "outputs": [
    {
     "name": "stdout",
     "output_type": "stream",
     "text": [
      "['Yes' 'No']\n"
     ]
    }
   ],
   "source": [
    "print(df['PhysicalActivity'].unique())\n"
   ]
  },
  {
   "cell_type": "code",
   "execution_count": 17,
   "id": "7ea24509-bfb9-41bd-874f-6740a0d27e64",
   "metadata": {},
   "outputs": [
    {
     "name": "stdout",
     "output_type": "stream",
     "text": [
      "['Good' 'Excellent' 'Very good' 'Fair' 'Poor']\n"
     ]
    }
   ],
   "source": [
    "print(df['GenHealth'].unique())\n"
   ]
  },
  {
   "cell_type": "code",
   "execution_count": 18,
   "id": "34b8392e-d571-4f2b-9c38-319cd0294466",
   "metadata": {},
   "outputs": [
    {
     "name": "stdout",
     "output_type": "stream",
     "text": [
      "['Good' 'Excellent' 'Very Good' 'Fair' 'Poor']\n"
     ]
    }
   ],
   "source": [
    "# Clean 'GenHealth' column to remove any leading/trailing spaces and handle case variations\n",
    "df['GenHealth'] = df['GenHealth'].str.strip().str.title()\n",
    "print(df['GenHealth'].unique())\n"
   ]
  },
  {
   "cell_type": "code",
   "execution_count": 19,
   "id": "0a1c7b68-ef5c-4ab2-a78c-0e7900a08762",
   "metadata": {},
   "outputs": [
    {
     "name": "stdout",
     "output_type": "stream",
     "text": [
      "[ 6  7  8  4 10  9  5 11  3]\n"
     ]
    }
   ],
   "source": [
    "print(df['SleepTime'].unique())\n"
   ]
  },
  {
   "cell_type": "code",
   "execution_count": 20,
   "id": "87ed5b46-224b-4861-b0b8-f75e91a1a824",
   "metadata": {},
   "outputs": [
    {
     "name": "stdout",
     "output_type": "stream",
     "text": [
      "['No' 'Yes']\n"
     ]
    }
   ],
   "source": [
    "print(df['Asthma'].unique())\n"
   ]
  },
  {
   "cell_type": "code",
   "execution_count": 21,
   "id": "cdbe5c6a-78ba-42fa-970a-4f7c21fba99f",
   "metadata": {},
   "outputs": [
    {
     "name": "stdout",
     "output_type": "stream",
     "text": [
      "['No' 'Yes']\n"
     ]
    }
   ],
   "source": [
    "print(df['KidneyDisease'].unique())\n"
   ]
  },
  {
   "cell_type": "code",
   "execution_count": 22,
   "id": "27c86e98-f216-4fe1-af70-92f95b53e97a",
   "metadata": {},
   "outputs": [
    {
     "name": "stdout",
     "output_type": "stream",
     "text": [
      "['No' 'Yes']\n"
     ]
    }
   ],
   "source": [
    "print(df['SkinCancer'].unique())"
   ]
  },
  {
   "cell_type": "code",
   "execution_count": 23,
   "id": "9368fe14-786b-44fe-830a-d4075d86a5bc",
   "metadata": {},
   "outputs": [
    {
     "name": "stdout",
     "output_type": "stream",
     "text": [
      "object\n",
      "0          50-54\n",
      "1          75-79\n",
      "2    80 or older\n",
      "3    80 or older\n",
      "4          65-69\n",
      "Name: AgeCategory, dtype: object\n"
     ]
    }
   ],
   "source": [
    "print(df['AgeCategory'].dtype)  # Check the data type\n",
    "print(df['AgeCategory'].head())  # Display a few rows for inspection\n"
   ]
  },
  {
   "cell_type": "code",
   "execution_count": 24,
   "id": "a4beb7c0-be07-4611-b1e3-225a5a613d14",
   "metadata": {},
   "outputs": [
    {
     "data": {
      "text/plain": [
       "0              50-54\n",
       "1              75-79\n",
       "2        80 or older\n",
       "3        80 or older\n",
       "4              65-69\n",
       "            ...     \n",
       "59063          70-74\n",
       "59064    80 or older\n",
       "59065          65-69\n",
       "59066          65-69\n",
       "59067          65-69\n",
       "Name: AgeCategory, Length: 59068, dtype: object"
      ]
     },
     "execution_count": 24,
     "metadata": {},
     "output_type": "execute_result"
    }
   ],
   "source": [
    "df['AgeCategory'] = df['AgeCategory'].str.strip().str.lower()\n",
    "df['AgeCategory']"
   ]
  },
  {
   "cell_type": "code",
   "execution_count": 25,
   "id": "1f1d62f8-2414-44c7-8f51-bb02c68c6d12",
   "metadata": {},
   "outputs": [
    {
     "name": "stdout",
     "output_type": "stream",
     "text": [
      "0         7\n",
      "1        12\n",
      "2        13\n",
      "3        13\n",
      "4        10\n",
      "         ..\n",
      "59063    11\n",
      "59064    13\n",
      "59065    10\n",
      "59066    10\n",
      "59067    10\n",
      "Name: AgeCategory, Length: 59068, dtype: int64\n",
      "Unique values in GenHealth after cleaning: ['Good' 'Excellent' 'Very Good' 'Fair' 'Poor']\n"
     ]
    },
    {
     "data": {
      "text/html": [
       "<div>\n",
       "<style scoped>\n",
       "    .dataframe tbody tr th:only-of-type {\n",
       "        vertical-align: middle;\n",
       "    }\n",
       "\n",
       "    .dataframe tbody tr th {\n",
       "        vertical-align: top;\n",
       "    }\n",
       "\n",
       "    .dataframe thead th {\n",
       "        text-align: right;\n",
       "    }\n",
       "</style>\n",
       "<table border=\"1\" class=\"dataframe\">\n",
       "  <thead>\n",
       "    <tr style=\"text-align: right;\">\n",
       "      <th></th>\n",
       "      <th>HeartDisease</th>\n",
       "      <th>BMI</th>\n",
       "      <th>Smoking</th>\n",
       "      <th>AlcoholDrinking</th>\n",
       "      <th>Stroke</th>\n",
       "      <th>PhysicalHealth</th>\n",
       "      <th>MentalHealth</th>\n",
       "      <th>DiffWalking</th>\n",
       "      <th>Sex</th>\n",
       "      <th>AgeCategory</th>\n",
       "      <th>Race</th>\n",
       "      <th>Diabetic</th>\n",
       "      <th>PhysicalActivity</th>\n",
       "      <th>GenHealth</th>\n",
       "      <th>SleepTime</th>\n",
       "      <th>Asthma</th>\n",
       "      <th>KidneyDisease</th>\n",
       "      <th>SkinCancer</th>\n",
       "    </tr>\n",
       "  </thead>\n",
       "  <tbody>\n",
       "    <tr>\n",
       "      <th>0</th>\n",
       "      <td>0</td>\n",
       "      <td>24.56</td>\n",
       "      <td>1</td>\n",
       "      <td>0</td>\n",
       "      <td>0</td>\n",
       "      <td>12.5</td>\n",
       "      <td>10.0</td>\n",
       "      <td>0</td>\n",
       "      <td>0</td>\n",
       "      <td>7</td>\n",
       "      <td>3</td>\n",
       "      <td>0</td>\n",
       "      <td>1</td>\n",
       "      <td>3</td>\n",
       "      <td>6</td>\n",
       "      <td>0</td>\n",
       "      <td>0</td>\n",
       "      <td>0</td>\n",
       "    </tr>\n",
       "    <tr>\n",
       "      <th>1</th>\n",
       "      <td>0</td>\n",
       "      <td>30.23</td>\n",
       "      <td>0</td>\n",
       "      <td>0</td>\n",
       "      <td>0</td>\n",
       "      <td>0.0</td>\n",
       "      <td>0.0</td>\n",
       "      <td>0</td>\n",
       "      <td>0</td>\n",
       "      <td>12</td>\n",
       "      <td>5</td>\n",
       "      <td>0</td>\n",
       "      <td>1</td>\n",
       "      <td>5</td>\n",
       "      <td>7</td>\n",
       "      <td>0</td>\n",
       "      <td>0</td>\n",
       "      <td>0</td>\n",
       "    </tr>\n",
       "    <tr>\n",
       "      <th>2</th>\n",
       "      <td>0</td>\n",
       "      <td>29.12</td>\n",
       "      <td>1</td>\n",
       "      <td>0</td>\n",
       "      <td>0</td>\n",
       "      <td>0.0</td>\n",
       "      <td>0.0</td>\n",
       "      <td>0</td>\n",
       "      <td>0</td>\n",
       "      <td>13</td>\n",
       "      <td>5</td>\n",
       "      <td>0</td>\n",
       "      <td>1</td>\n",
       "      <td>5</td>\n",
       "      <td>7</td>\n",
       "      <td>1</td>\n",
       "      <td>0</td>\n",
       "      <td>0</td>\n",
       "    </tr>\n",
       "    <tr>\n",
       "      <th>3</th>\n",
       "      <td>1</td>\n",
       "      <td>30.23</td>\n",
       "      <td>0</td>\n",
       "      <td>0</td>\n",
       "      <td>0</td>\n",
       "      <td>0.0</td>\n",
       "      <td>0.0</td>\n",
       "      <td>0</td>\n",
       "      <td>0</td>\n",
       "      <td>13</td>\n",
       "      <td>5</td>\n",
       "      <td>0</td>\n",
       "      <td>1</td>\n",
       "      <td>4</td>\n",
       "      <td>8</td>\n",
       "      <td>0</td>\n",
       "      <td>0</td>\n",
       "      <td>0</td>\n",
       "    </tr>\n",
       "    <tr>\n",
       "      <th>4</th>\n",
       "      <td>0</td>\n",
       "      <td>20.81</td>\n",
       "      <td>1</td>\n",
       "      <td>0</td>\n",
       "      <td>1</td>\n",
       "      <td>0.0</td>\n",
       "      <td>0.0</td>\n",
       "      <td>0</td>\n",
       "      <td>1</td>\n",
       "      <td>10</td>\n",
       "      <td>5</td>\n",
       "      <td>0</td>\n",
       "      <td>1</td>\n",
       "      <td>2</td>\n",
       "      <td>8</td>\n",
       "      <td>0</td>\n",
       "      <td>0</td>\n",
       "      <td>0</td>\n",
       "    </tr>\n",
       "    <tr>\n",
       "      <th>...</th>\n",
       "      <td>...</td>\n",
       "      <td>...</td>\n",
       "      <td>...</td>\n",
       "      <td>...</td>\n",
       "      <td>...</td>\n",
       "      <td>...</td>\n",
       "      <td>...</td>\n",
       "      <td>...</td>\n",
       "      <td>...</td>\n",
       "      <td>...</td>\n",
       "      <td>...</td>\n",
       "      <td>...</td>\n",
       "      <td>...</td>\n",
       "      <td>...</td>\n",
       "      <td>...</td>\n",
       "      <td>...</td>\n",
       "      <td>...</td>\n",
       "      <td>...</td>\n",
       "    </tr>\n",
       "    <tr>\n",
       "      <th>59063</th>\n",
       "      <td>1</td>\n",
       "      <td>21.93</td>\n",
       "      <td>1</td>\n",
       "      <td>0</td>\n",
       "      <td>0</td>\n",
       "      <td>12.5</td>\n",
       "      <td>0.0</td>\n",
       "      <td>0</td>\n",
       "      <td>0</td>\n",
       "      <td>11</td>\n",
       "      <td>5</td>\n",
       "      <td>2</td>\n",
       "      <td>1</td>\n",
       "      <td>2</td>\n",
       "      <td>4</td>\n",
       "      <td>1</td>\n",
       "      <td>0</td>\n",
       "      <td>1</td>\n",
       "    </tr>\n",
       "    <tr>\n",
       "      <th>59064</th>\n",
       "      <td>0</td>\n",
       "      <td>24.68</td>\n",
       "      <td>1</td>\n",
       "      <td>0</td>\n",
       "      <td>0</td>\n",
       "      <td>0.0</td>\n",
       "      <td>0.0</td>\n",
       "      <td>1</td>\n",
       "      <td>1</td>\n",
       "      <td>13</td>\n",
       "      <td>5</td>\n",
       "      <td>0</td>\n",
       "      <td>1</td>\n",
       "      <td>4</td>\n",
       "      <td>6</td>\n",
       "      <td>0</td>\n",
       "      <td>0</td>\n",
       "      <td>1</td>\n",
       "    </tr>\n",
       "    <tr>\n",
       "      <th>59065</th>\n",
       "      <td>1</td>\n",
       "      <td>20.38</td>\n",
       "      <td>0</td>\n",
       "      <td>0</td>\n",
       "      <td>0</td>\n",
       "      <td>5.0</td>\n",
       "      <td>4.0</td>\n",
       "      <td>0</td>\n",
       "      <td>0</td>\n",
       "      <td>10</td>\n",
       "      <td>5</td>\n",
       "      <td>0</td>\n",
       "      <td>1</td>\n",
       "      <td>3</td>\n",
       "      <td>7</td>\n",
       "      <td>0</td>\n",
       "      <td>0</td>\n",
       "      <td>0</td>\n",
       "    </tr>\n",
       "    <tr>\n",
       "      <th>59066</th>\n",
       "      <td>0</td>\n",
       "      <td>25.86</td>\n",
       "      <td>1</td>\n",
       "      <td>0</td>\n",
       "      <td>0</td>\n",
       "      <td>12.5</td>\n",
       "      <td>0.0</td>\n",
       "      <td>1</td>\n",
       "      <td>1</td>\n",
       "      <td>10</td>\n",
       "      <td>5</td>\n",
       "      <td>0</td>\n",
       "      <td>0</td>\n",
       "      <td>3</td>\n",
       "      <td>7</td>\n",
       "      <td>0</td>\n",
       "      <td>0</td>\n",
       "      <td>1</td>\n",
       "    </tr>\n",
       "    <tr>\n",
       "      <th>59067</th>\n",
       "      <td>1</td>\n",
       "      <td>26.50</td>\n",
       "      <td>0</td>\n",
       "      <td>0</td>\n",
       "      <td>0</td>\n",
       "      <td>0.0</td>\n",
       "      <td>0.0</td>\n",
       "      <td>0</td>\n",
       "      <td>0</td>\n",
       "      <td>10</td>\n",
       "      <td>5</td>\n",
       "      <td>0</td>\n",
       "      <td>0</td>\n",
       "      <td>4</td>\n",
       "      <td>7</td>\n",
       "      <td>0</td>\n",
       "      <td>0</td>\n",
       "      <td>0</td>\n",
       "    </tr>\n",
       "  </tbody>\n",
       "</table>\n",
       "<p>59068 rows × 18 columns</p>\n",
       "</div>"
      ],
      "text/plain": [
       "       HeartDisease    BMI  Smoking  AlcoholDrinking  Stroke  PhysicalHealth  \\\n",
       "0                 0  24.56        1                0       0            12.5   \n",
       "1                 0  30.23        0                0       0             0.0   \n",
       "2                 0  29.12        1                0       0             0.0   \n",
       "3                 1  30.23        0                0       0             0.0   \n",
       "4                 0  20.81        1                0       1             0.0   \n",
       "...             ...    ...      ...              ...     ...             ...   \n",
       "59063             1  21.93        1                0       0            12.5   \n",
       "59064             0  24.68        1                0       0             0.0   \n",
       "59065             1  20.38        0                0       0             5.0   \n",
       "59066             0  25.86        1                0       0            12.5   \n",
       "59067             1  26.50        0                0       0             0.0   \n",
       "\n",
       "       MentalHealth  DiffWalking  Sex  AgeCategory  Race  Diabetic  \\\n",
       "0              10.0            0    0            7     3         0   \n",
       "1               0.0            0    0           12     5         0   \n",
       "2               0.0            0    0           13     5         0   \n",
       "3               0.0            0    0           13     5         0   \n",
       "4               0.0            0    1           10     5         0   \n",
       "...             ...          ...  ...          ...   ...       ...   \n",
       "59063           0.0            0    0           11     5         2   \n",
       "59064           0.0            1    1           13     5         0   \n",
       "59065           4.0            0    0           10     5         0   \n",
       "59066           0.0            1    1           10     5         0   \n",
       "59067           0.0            0    0           10     5         0   \n",
       "\n",
       "       PhysicalActivity  GenHealth  SleepTime  Asthma  KidneyDisease  \\\n",
       "0                     1          3          6       0              0   \n",
       "1                     1          5          7       0              0   \n",
       "2                     1          5          7       1              0   \n",
       "3                     1          4          8       0              0   \n",
       "4                     1          2          8       0              0   \n",
       "...                 ...        ...        ...     ...            ...   \n",
       "59063                 1          2          4       1              0   \n",
       "59064                 1          4          6       0              0   \n",
       "59065                 1          3          7       0              0   \n",
       "59066                 0          3          7       0              0   \n",
       "59067                 0          4          7       0              0   \n",
       "\n",
       "       SkinCancer  \n",
       "0               0  \n",
       "1               0  \n",
       "2               0  \n",
       "3               0  \n",
       "4               0  \n",
       "...           ...  \n",
       "59063           1  \n",
       "59064           1  \n",
       "59065           0  \n",
       "59066           1  \n",
       "59067           0  \n",
       "\n",
       "[59068 rows x 18 columns]"
      ]
     },
     "execution_count": 25,
     "metadata": {},
     "output_type": "execute_result"
    }
   ],
   "source": [
    "import pandas as pd\n",
    "from sklearn.preprocessing import LabelEncoder\n",
    "\n",
    "# Assuming 'df' is your original DataFrame\n",
    "\n",
    "# Label encode the target variable \"Diabetic\"\n",
    "le = LabelEncoder()\n",
    "df['Diabetic'] = le.fit_transform(df['Diabetic'])  # Converts Yes/No to 1/0\n",
    "\n",
    "# Encode Nominal Columns (Replace them directly)\n",
    "nominal_columns = ['HeartDisease', 'Smoking', 'AlcoholDrinking', 'Stroke', \n",
    "                   'DiffWalking', 'Sex', 'Race', 'PhysicalActivity', \n",
    "                   'Asthma', 'KidneyDisease', 'SkinCancer']\n",
    "\n",
    "for col in nominal_columns:\n",
    "    df[col] = LabelEncoder().fit_transform(df[col])  # Replace original column with label-encoded values\n",
    "\n",
    "# Encode Ordinal Columns (Replace them directly)\n",
    "# AgeCategory (Ordinal): Categories like 18-24, 25-34, etc. -> Convert to integers\n",
    "age_category_mapping = {\n",
    "    '18-24': 1,\n",
    "    '25-29': 2,\n",
    "    '30-34': 3,\n",
    "    '35-39': 4,\n",
    "    '40-44': 5,\n",
    "    '45-49': 6,\n",
    "    '50-54': 7,\n",
    "    '55-59': 8,\n",
    "    '60-64': 9,\n",
    "    '65-69': 10,\n",
    "    '70-74': 11,\n",
    "    '75-79': 12,\n",
    "    '80 or older': 13\n",
    "}\n",
    "\n",
    "df['AgeCategory'] = df['AgeCategory'].map(age_category_mapping)\n",
    "#unmapped_values = df[~df['AgeCategory'].isin(age_category_mapping.keys())]\n",
    "#print(\"Unmapped values:\", unmapped_values['AgeCategory'].unique())\n",
    "\n",
    "print(df['AgeCategory'])\n",
    "\n",
    "\n",
    "\n",
    "# GenHealth (Ordinal): Categories like Poor, Fair, Good, Very Good, Excellent -> Convert to integers\n",
    "gen_health_mapping = {'Poor': 1, 'Fair': 2, 'Good': 3, 'Very Good': 4, 'Excellent': 5}\n",
    "\n",
    "\n",
    "# Check if any categories still do not match after cleaning\n",
    "print(\"Unique values in GenHealth after cleaning:\", df['GenHealth'].unique())\n",
    "\n",
    "df['GenHealth'] = df['GenHealth'].map(gen_health_mapping)\n",
    "\n",
    "# Save the updated dataframe to a new CSV file\n",
    "df.to_csv('encoded_data.csv', index=False)\n",
    "\n",
    "\n",
    "df\n"
   ]
  },
  {
   "cell_type": "code",
   "execution_count": 26,
   "id": "1df38f3d-c109-43db-afe3-d3cfe4bfeaed",
   "metadata": {},
   "outputs": [
    {
     "name": "stdout",
     "output_type": "stream",
     "text": [
      "[0 1 2 3]\n"
     ]
    }
   ],
   "source": [
    "print(df['Diabetic'].unique())\n"
   ]
  },
  {
   "cell_type": "code",
   "execution_count": 27,
   "id": "a0168137-82c2-4c8c-8822-7d5006bf34f2",
   "metadata": {},
   "outputs": [
    {
     "name": "stdout",
     "output_type": "stream",
     "text": [
      "Diabetic\n",
      "0    45049\n",
      "2    12188\n",
      "1     1505\n",
      "3      326\n",
      "Name: count, dtype: int64\n"
     ]
    }
   ],
   "source": [
    "# Count the occurrences of each unique value in the 'Diabetic' column\n",
    "value_counts = df['Diabetic'].value_counts()\n",
    "print(value_counts)\n"
   ]
  },
  {
   "cell_type": "code",
   "execution_count": 28,
   "id": "1b880fe6-023d-4e4e-8fc3-21d08bfc0b75",
   "metadata": {},
   "outputs": [
    {
     "data": {
      "text/plain": [
       "HeartDisease          int32\n",
       "BMI                 float64\n",
       "Smoking               int32\n",
       "AlcoholDrinking       int32\n",
       "Stroke                int32\n",
       "PhysicalHealth      float64\n",
       "MentalHealth        float64\n",
       "DiffWalking           int32\n",
       "Sex                   int32\n",
       "AgeCategory           int64\n",
       "Race                  int32\n",
       "Diabetic              int32\n",
       "PhysicalActivity      int32\n",
       "GenHealth             int64\n",
       "SleepTime             int64\n",
       "Asthma                int32\n",
       "KidneyDisease         int32\n",
       "SkinCancer            int32\n",
       "dtype: object"
      ]
     },
     "execution_count": 28,
     "metadata": {},
     "output_type": "execute_result"
    }
   ],
   "source": [
    "df.dtypes"
   ]
  },
  {
   "cell_type": "code",
   "execution_count": null,
   "id": "de22ae89-8d56-4af0-a9a9-70089ab8243d",
   "metadata": {},
   "outputs": [
    {
     "name": "stdout",
     "output_type": "stream",
     "text": [
      "Class Proportion:\n",
      " Diabetic\n",
      "0    0.762663\n",
      "2    0.206338\n",
      "1    0.025479\n",
      "3    0.005519\n",
      "Name: proportion, dtype: float64\n",
      "\n",
      "Scale Pos Weight for each class:\n",
      "{2: 3.6961765671151956, 1: 29.932890365448504, 3: 138.18711656441718}\n",
      "\n",
      "Evaluating Logistic Regression...\n",
      "Accuracy: 0.7787\n",
      "Classification Report for Logistic Regression:\n",
      "              precision    recall  f1-score   support\n",
      "\n",
      "           0       0.80      0.95      0.87      9025\n",
      "           1       0.00      0.00      0.00       315\n",
      "           2       0.55      0.27      0.36      2425\n",
      "           3       0.00      0.00      0.00        49\n",
      "\n",
      "    accuracy                           0.78     11814\n",
      "   macro avg       0.34      0.30      0.31     11814\n",
      "weighted avg       0.73      0.78      0.74     11814\n",
      "\n",
      "\n",
      "Evaluating Decision Tree...\n"
     ]
    },
    {
     "name": "stderr",
     "output_type": "stream",
     "text": [
      "c:\\Users\\hp\\AppData\\Local\\Programs\\Python\\Python39\\lib\\site-packages\\sklearn\\metrics\\_classification.py:1509: UndefinedMetricWarning: Precision is ill-defined and being set to 0.0 in labels with no predicted samples. Use `zero_division` parameter to control this behavior.\n",
      "  _warn_prf(average, modifier, f\"{metric.capitalize()} is\", len(result))\n",
      "c:\\Users\\hp\\AppData\\Local\\Programs\\Python\\Python39\\lib\\site-packages\\sklearn\\metrics\\_classification.py:1509: UndefinedMetricWarning: Precision is ill-defined and being set to 0.0 in labels with no predicted samples. Use `zero_division` parameter to control this behavior.\n",
      "  _warn_prf(average, modifier, f\"{metric.capitalize()} is\", len(result))\n",
      "c:\\Users\\hp\\AppData\\Local\\Programs\\Python\\Python39\\lib\\site-packages\\sklearn\\metrics\\_classification.py:1509: UndefinedMetricWarning: Precision is ill-defined and being set to 0.0 in labels with no predicted samples. Use `zero_division` parameter to control this behavior.\n",
      "  _warn_prf(average, modifier, f\"{metric.capitalize()} is\", len(result))\n"
     ]
    },
    {
     "name": "stdout",
     "output_type": "stream",
     "text": [
      "Accuracy: 0.6816\n",
      "Classification Report for Decision Tree:\n",
      "              precision    recall  f1-score   support\n",
      "\n",
      "           0       0.81      0.79      0.80      9025\n",
      "           1       0.04      0.04      0.04       315\n",
      "           2       0.35      0.36      0.35      2425\n",
      "           3       0.00      0.00      0.00        49\n",
      "\n",
      "    accuracy                           0.68     11814\n",
      "   macro avg       0.30      0.30      0.30     11814\n",
      "weighted avg       0.69      0.68      0.69     11814\n",
      "\n",
      "\n",
      "Evaluating Random Forest...\n",
      "Accuracy: 0.7694\n",
      "Classification Report for Random Forest:\n",
      "              precision    recall  f1-score   support\n",
      "\n",
      "           0       0.81      0.93      0.86      9025\n",
      "           1       0.00      0.00      0.00       315\n",
      "           2       0.51      0.30      0.38      2425\n",
      "           3       0.00      0.00      0.00        49\n",
      "\n",
      "    accuracy                           0.77     11814\n",
      "   macro avg       0.33      0.31      0.31     11814\n",
      "weighted avg       0.72      0.77      0.74     11814\n",
      "\n",
      "\n",
      "Evaluating K-Nearest Neighbors...\n",
      "Accuracy: 0.7522\n",
      "Classification Report for K-Nearest Neighbors:\n",
      "              precision    recall  f1-score   support\n",
      "\n",
      "           0       0.80      0.91      0.85      9025\n",
      "           1       0.05      0.00      0.01       315\n",
      "           2       0.44      0.28      0.35      2425\n",
      "           3       0.00      0.00      0.00        49\n",
      "\n",
      "    accuracy                           0.75     11814\n",
      "   macro avg       0.32      0.30      0.30     11814\n",
      "weighted avg       0.70      0.75      0.72     11814\n",
      "\n",
      "\n",
      "Evaluating Naive Bayes...\n",
      "Accuracy: 0.4005\n",
      "Classification Report for Naive Bayes:\n",
      "              precision    recall  f1-score   support\n",
      "\n",
      "           0       0.83      0.42      0.56      9025\n",
      "           1       0.00      0.00      0.00       315\n",
      "           2       0.44      0.38      0.40      2425\n",
      "           3       0.01      0.96      0.02        49\n",
      "\n",
      "    accuracy                           0.40     11814\n",
      "   macro avg       0.32      0.44      0.24     11814\n",
      "weighted avg       0.72      0.40      0.51     11814\n",
      "\n",
      "\n",
      "Evaluating Neural Network...\n"
     ]
    },
    {
     "name": "stderr",
     "output_type": "stream",
     "text": [
      "c:\\Users\\hp\\AppData\\Local\\Programs\\Python\\Python39\\lib\\site-packages\\sklearn\\metrics\\_classification.py:1509: UndefinedMetricWarning: Precision is ill-defined and being set to 0.0 in labels with no predicted samples. Use `zero_division` parameter to control this behavior.\n",
      "  _warn_prf(average, modifier, f\"{metric.capitalize()} is\", len(result))\n",
      "c:\\Users\\hp\\AppData\\Local\\Programs\\Python\\Python39\\lib\\site-packages\\sklearn\\metrics\\_classification.py:1509: UndefinedMetricWarning: Precision is ill-defined and being set to 0.0 in labels with no predicted samples. Use `zero_division` parameter to control this behavior.\n",
      "  _warn_prf(average, modifier, f\"{metric.capitalize()} is\", len(result))\n",
      "c:\\Users\\hp\\AppData\\Local\\Programs\\Python\\Python39\\lib\\site-packages\\sklearn\\metrics\\_classification.py:1509: UndefinedMetricWarning: Precision is ill-defined and being set to 0.0 in labels with no predicted samples. Use `zero_division` parameter to control this behavior.\n",
      "  _warn_prf(average, modifier, f\"{metric.capitalize()} is\", len(result))\n"
     ]
    },
    {
     "name": "stdout",
     "output_type": "stream",
     "text": [
      "Accuracy: 0.7708\n",
      "Classification Report for Neural Network:\n",
      "              precision    recall  f1-score   support\n",
      "\n",
      "           0       0.81      0.93      0.86      9025\n",
      "           1       0.00      0.00      0.00       315\n",
      "           2       0.51      0.31      0.39      2425\n",
      "           3       0.00      0.00      0.00        49\n",
      "\n",
      "    accuracy                           0.77     11814\n",
      "   macro avg       0.33      0.31      0.31     11814\n",
      "weighted avg       0.72      0.77      0.74     11814\n",
      "\n",
      "\n",
      "Evaluating SVM (RBF Kernel)...\n"
     ]
    },
    {
     "name": "stderr",
     "output_type": "stream",
     "text": [
      "c:\\Users\\hp\\AppData\\Local\\Programs\\Python\\Python39\\lib\\site-packages\\sklearn\\metrics\\_classification.py:1509: UndefinedMetricWarning: Precision is ill-defined and being set to 0.0 in labels with no predicted samples. Use `zero_division` parameter to control this behavior.\n",
      "  _warn_prf(average, modifier, f\"{metric.capitalize()} is\", len(result))\n",
      "c:\\Users\\hp\\AppData\\Local\\Programs\\Python\\Python39\\lib\\site-packages\\sklearn\\metrics\\_classification.py:1509: UndefinedMetricWarning: Precision is ill-defined and being set to 0.0 in labels with no predicted samples. Use `zero_division` parameter to control this behavior.\n",
      "  _warn_prf(average, modifier, f\"{metric.capitalize()} is\", len(result))\n",
      "c:\\Users\\hp\\AppData\\Local\\Programs\\Python\\Python39\\lib\\site-packages\\sklearn\\metrics\\_classification.py:1509: UndefinedMetricWarning: Precision is ill-defined and being set to 0.0 in labels with no predicted samples. Use `zero_division` parameter to control this behavior.\n",
      "  _warn_prf(average, modifier, f\"{metric.capitalize()} is\", len(result))\n"
     ]
    }
   ],
   "source": [
    "import numpy as np\n",
    "import pandas as pd\n",
    "from sklearn.model_selection import train_test_split\n",
    "from sklearn.preprocessing import StandardScaler\n",
    "from sklearn.linear_model import LogisticRegression\n",
    "from sklearn.tree import DecisionTreeClassifier\n",
    "from sklearn.ensemble import RandomForestClassifier\n",
    "from sklearn.neighbors import KNeighborsClassifier\n",
    "from sklearn.naive_bayes import GaussianNB\n",
    "from sklearn.neural_network import MLPClassifier\n",
    "from sklearn.cluster import KMeans\n",
    "from sklearn.svm import SVC\n",
    "from sklearn.metrics import classification_report, accuracy_score\n",
    "\n",
    "# Load your dataset\n",
    "df = pd.read_csv('encoded_data.csv')\n",
    "\n",
    "# Display class distribution to calculate scale_pos_weight\n",
    "class_proportion = df['Diabetic'].value_counts(normalize=True)\n",
    "print(\"Class Proportion:\\n\", class_proportion)\n",
    "\n",
    "# Compute class imbalance ratio based on class proportions\n",
    "majority_class = class_proportion.idxmax()\n",
    "majority_class_proportion = class_proportion[majority_class]\n",
    "\n",
    "scale_pos_weights = {\n",
    "    class_: majority_class_proportion / proportion\n",
    "    for class_, proportion in class_proportion.items()\n",
    "    if class_ != majority_class\n",
    "}\n",
    "\n",
    "print(\"\\nScale Pos Weight for each class:\")\n",
    "print(scale_pos_weights)\n",
    "\n",
    "# Separate features and target variable\n",
    "X = df.drop('Diabetic', axis=1)  # Features\n",
    "y = df['Diabetic']  # Target variable\n",
    "\n",
    "# Scale the features\n",
    "scaler = StandardScaler()\n",
    "X_scaled = scaler.fit_transform(X)\n",
    "\n",
    "# Split the data into training and testing sets\n",
    "X_train, X_test, y_train, y_test = train_test_split(X_scaled, y, test_size=0.2, random_state=42)\n",
    "\n",
    "# List of classifiers to evaluate\n",
    "models = {\n",
    "    \"Logistic Regression\": LogisticRegression(random_state=42),\n",
    "    \"Decision Tree\": DecisionTreeClassifier(random_state=42),\n",
    "    \"Random Forest\": RandomForestClassifier(random_state=42),\n",
    "    \"K-Nearest Neighbors\": KNeighborsClassifier(),\n",
    "    \"Naive Bayes\": GaussianNB(),\n",
    "    \"Neural Network\": MLPClassifier(hidden_layer_sizes=(100,), max_iter=300, random_state=42),\n",
    "}\n",
    "\n",
    "# Train and evaluate each non-SVM model\n",
    "for model_name, model in models.items():\n",
    "    print(f\"\\nEvaluating {model_name}...\")\n",
    "    model.fit(X_train, y_train)\n",
    "    y_pred = model.predict(X_test)\n",
    "    \n",
    "    # Evaluate the model\n",
    "    accuracy = accuracy_score(y_test, y_pred)\n",
    "    print(f\"Accuracy: {accuracy:.4f}\")\n",
    "    \n",
    "    # Display the classification report\n",
    "    print(f\"Classification Report for {model_name}:\")\n",
    "    print(classification_report(y_test, y_pred))\n",
    "\n",
    "# Evaluate SVM models at the end\n",
    "svm_models = {\n",
    "    #\"SVM (Linear Kernel)\": SVC(kernel='linear', random_state=42),\n",
    "    \"SVM (RBF Kernel)\": SVC(kernel='rbf', random_state=42)\n",
    "}\n",
    "\n",
    "for svm_name, svm_model in svm_models.items():\n",
    "    print(f\"\\nEvaluating {svm_name}...\")\n",
    "    svm_model.fit(X_train, y_train)\n",
    "    svm_pred = svm_model.predict(X_test)\n",
    "    \n",
    "    # Evaluate the model\n",
    "    accuracy = accuracy_score(y_test, svm_pred)\n",
    "    print(f\"Accuracy: {accuracy:.4f}\")\n",
    "    \n",
    "    # Display the classification report\n",
    "    print(f\"Classification Report for {svm_name}:\")\n",
    "    print(classification_report(y_test, svm_pred))\n",
    "\n",
    "# K-Means Clustering (Unsupervised Learning)\n",
    "print(\"\\nEvaluating K-Means Clustering (Unsupervised)...\")\n",
    "kmeans = KMeans(n_clusters=2, random_state=42)  # Assuming binary classification\n",
    "kmeans.fit(X_scaled)\n",
    "kmeans_labels = kmeans.predict(X_scaled)\n",
    "print(\"K-Means Clustering Labels (first 10 samples):\", kmeans_labels[:10])\n"
   ]
  },
  {
   "cell_type": "code",
   "execution_count": null,
   "id": "c961cdf0",
   "metadata": {},
   "outputs": [],
   "source": []
  }
 ],
 "metadata": {
  "kernelspec": {
   "display_name": "Python 3 (ipykernel)",
   "language": "python",
   "name": "python3"
  },
  "language_info": {
   "codemirror_mode": {
    "name": "ipython",
    "version": 3
   },
   "file_extension": ".py",
   "mimetype": "text/x-python",
   "name": "python",
   "nbconvert_exporter": "python",
   "pygments_lexer": "ipython3",
   "version": "3.11.5"
  }
 },
 "nbformat": 4,
 "nbformat_minor": 5
}
